{
 "cells": [
  {
   "cell_type": "code",
   "execution_count": 1,
   "metadata": {},
   "outputs": [],
   "source": [
    "from tensorflow.keras.applications.resnet50 import ResNet50\n",
    "from tensorflow.keras.preprocessing import image as keras_image\n",
    "from tensorflow.keras.applications.resnet50 import preprocess_input, decode_predictions\n",
    "import numpy as np\n",
    "import os\n",
    "import base64\n",
    "from json_tricks import dumps, loads\n"
   ]
  },
  {
   "cell_type": "code",
   "execution_count": null,
   "metadata": {
    "pycharm": {
     "name": "#%%\n"
    }
   },
   "outputs": [],
   "source": [
    "from os import getenv\n",
    "\n",
    "# quick-and-dirty way of detecting if we are running on Binder\n",
    "def running_on_binder():\n",
    "    return getenv('BINDER_SERVICE_HOST',None) is not None"
   ]
  },
  {
   "cell_type": "code",
   "execution_count": null,
   "metadata": {
    "pycharm": {
     "name": "#%%\n"
    }
   },
   "outputs": [],
   "source": [
    "from jupyter_dash import JupyterDash\n",
    "\n",
    "if running_on_binder():\n",
    "    # needed when running on Binder\n",
    "    JupyterDash.infer_jupyter_proxy_config()\n",
    "\n",
    "from IPython.display import display, clear_output, HTML\n",
    "\n",
    "display(HTML(\"<style>.container { width:90% !important; }</style>\"))"
   ]
  },
  {
   "cell_type": "code",
   "execution_count": null,
   "metadata": {},
   "outputs": [],
   "source": [
    "%autosave 0\n",
    "clear_output()"
   ]
  },
  {
   "cell_type": "code",
   "execution_count": null,
   "metadata": {
    "pycharm": {
     "name": "#%%\n"
    }
   },
   "outputs": [],
   "source": [
    "import tensorflow as tf\n",
    "\n",
    "physical_devices = tf.config.list_physical_devices('GPU')\n",
    "try:\n",
    "    tf.config.experimental.set_memory_growth(physical_devices[0], True)\n",
    "except:\n",
    "    # Invalid device or cannot modify virtual devices once initialized.\n",
    "    print(\"No GPU?\")\n",
    "    clear_output()"
   ]
  },
  {
   "cell_type": "code",
   "execution_count": null,
   "metadata": {
    "pycharm": {
     "name": "#%%\n"
    }
   },
   "outputs": [],
   "source": [
    "print(\"Setting up pre-trained keras ResNet50 model\")\n",
    "model = ResNet50(weights='imagenet')\n",
    "print(\"Model ready\")\n",
    "clear_output()"
   ]
  },
  {
   "cell_type": "code",
   "execution_count": null,
   "metadata": {
    "pycharm": {
     "name": "#%%\n"
    }
   },
   "outputs": [],
   "source": [
    "import h5py"
   ]
  },
  {
   "cell_type": "code",
   "execution_count": null,
   "metadata": {
    "pycharm": {
     "name": "#%%\n"
    }
   },
   "outputs": [],
   "source": [
    "import urllib.request\n",
    "\n",
    "if not os.path.exists('val_preds.h5'):\n",
    "    print(\"Downloading MICP calibration data (190MB) - be patient!\")\n",
    "    urllib.request.urlretrieve(\"https://cml.rhul.ac.uk/people/ptocca/ILSVRC2012-CP/val_preds.h5\",\n",
    "                               'val_preds.h5')\n",
    "    clear_output()"
   ]
  },
  {
   "cell_type": "code",
   "execution_count": null,
   "metadata": {
    "pycharm": {
     "name": "#%%\n"
    }
   },
   "outputs": [],
   "source": [
    "with h5py.File('val_preds.h5', 'r') as f:\n",
    "    preds_cal = f['preds'][:]\n"
   ]
  },
  {
   "cell_type": "code",
   "execution_count": null,
   "metadata": {
    "pycharm": {
     "name": "#%%\n"
    }
   },
   "outputs": [],
   "source": [
    "def pValues(calibrationAlphas, testAlphas, randomized=False):\n",
    "    testAlphas = np.array(testAlphas)\n",
    "    sortedCalAlphas = np.sort(calibrationAlphas)\n",
    "\n",
    "    leftPositions = np.searchsorted(sortedCalAlphas, testAlphas)\n",
    "\n",
    "    if randomized:\n",
    "        rightPositions = np.searchsorted(sortedCalAlphas, testAlphas, side='right')\n",
    "        ties = rightPositions - leftPositions + 1  # ties in cal set plus the test alpha itself\n",
    "        randomizedTies = ties * np.random.uniform(size=len(ties))\n",
    "        return (len(calibrationAlphas) - rightPositions + randomizedTies) / (len(calibrationAlphas) + 1)\n",
    "    else:\n",
    "        return (len(calibrationAlphas) - leftPositions + 1) / (len(calibrationAlphas) + 1)"
   ]
  },
  {
   "cell_type": "code",
   "execution_count": null,
   "metadata": {
    "pycharm": {
     "name": "#%%\n"
    }
   },
   "outputs": [],
   "source": [
    "def rev_score(scores, label):\n",
    "    return -scores[:, label]\n",
    "\n",
    "\n",
    "def ratio_max_to_hypothetical(scores, label):\n",
    "    mask = np.ones(scores.shape[1], dtype=np.bool)\n",
    "    mask[label] = False\n",
    "\n",
    "    return np.amax(scores, axis=1, where=mask, initial=0) / scores[:, label]\n"
   ]
  },
  {
   "cell_type": "code",
   "execution_count": null,
   "metadata": {
    "pycharm": {
     "name": "#%%\n"
    }
   },
   "outputs": [],
   "source": [
    "def micp_pValues(scores_cal, scores_test, y_cal, ncm):\n",
    "    \"\"\"Compute p-values for a Mondrian Inductive Conformal Predictor\n",
    "    scores_cal,scores_test: arrays of shape (objects,labels) of scores for\n",
    "                            calibration set and test set\n",
    "    y_cal: array of shape (objects,) with the labels of the calibration set\n",
    "    ncm: function of scores and label, computing the NCM\"\"\"\n",
    "\n",
    "    micp_pValues = []\n",
    "\n",
    "    for i in range(scores_test.shape[1]):\n",
    "        ncm_cal = ncm(scores_cal[y_cal == i], i)\n",
    "        ncm_test = ncm(scores_test, i)\n",
    "        p_i = pValues(ncm_cal, ncm_test)\n",
    "\n",
    "        micp_pValues.append(p_i)\n",
    "\n",
    "    micp_pValues = np.array(micp_pValues)\n",
    "\n",
    "    return micp_pValues\n"
   ]
  },
  {
   "cell_type": "code",
   "execution_count": null,
   "metadata": {
    "pycharm": {
     "name": "#%%\n"
    }
   },
   "outputs": [],
   "source": [
    "# ilsrvc_dir = \"/mnt/d/Research/ILSVRC2012/\"\n",
    "ilsrvc_dir = \".\""
   ]
  },
  {
   "cell_type": "code",
   "execution_count": null,
   "metadata": {
    "pycharm": {
     "name": "#%%\n"
    }
   },
   "outputs": [],
   "source": [
    "gt_cal_file = os.path.join(ilsrvc_dir, \"cal_gt.txt\")\n",
    "gt_test_file = os.path.join(ilsrvc_dir, \"test_gt.txt\")\n",
    "lbls_file = os.path.join(ilsrvc_dir, \"labels.txt\")"
   ]
  },
  {
   "cell_type": "code",
   "execution_count": null,
   "metadata": {
    "pycharm": {
     "name": "#%%\n"
    }
   },
   "outputs": [],
   "source": [
    "n_to_ki = {}\n",
    "ki_to_synset = {}\n",
    "with open(os.path.join(ilsrvc_dir, 'synset_words.txt')) as f:\n",
    "    for i, l in enumerate(f):\n",
    "        ki_to_synset[i] = l[10:].strip()"
   ]
  },
  {
   "cell_type": "code",
   "execution_count": null,
   "metadata": {
    "pycharm": {
     "name": "#%%\n"
    }
   },
   "outputs": [],
   "source": [
    "ground_truth_ki_cal = np.loadtxt(gt_cal_file, dtype=np.int)\n",
    "ground_truth_ki_test = np.loadtxt(gt_test_file, dtype=np.int)"
   ]
  },
  {
   "cell_type": "code",
   "execution_count": null,
   "metadata": {
    "pycharm": {
     "name": "#%%\n"
    }
   },
   "outputs": [],
   "source": [
    "import io"
   ]
  },
  {
   "cell_type": "code",
   "execution_count": null,
   "metadata": {
    "pycharm": {
     "name": "#%%\n"
    }
   },
   "outputs": [],
   "source": [
    "import PIL.Image\n",
    "import joblib"
   ]
  },
  {
   "cell_type": "code",
   "execution_count": null,
   "metadata": {
    "pycharm": {
     "name": "#%%\n"
    }
   },
   "outputs": [],
   "source": [
    "mem = joblib.Memory('/dev/shm/joblib', verbose=0)\n",
    "\n",
    "\n",
    "@mem.cache\n",
    "def getImage(url):\n",
    "    img_data = PIL.Image.open(urllib.request.urlopen(url))\n",
    "    if img_data.mode != 'RGB':\n",
    "        img_data = img_data.convert('RGB')\n",
    "    img_data = img_data.resize((224, 224), resample=PIL.Image.NEAREST)\n",
    "    return img_data\n"
   ]
  },
  {
   "cell_type": "code",
   "execution_count": null,
   "metadata": {
    "pycharm": {
     "name": "#%%\n"
    }
   },
   "outputs": [],
   "source": [
    "def get_prob_sets(preds, eps):\n",
    "    preds_as = np.argsort(-preds, axis=1)\n",
    "    preds_cumul = np.cumsum(np.take_along_axis(preds, preds_as, axis=1), axis=1)\n",
    "\n",
    "    set_masks = preds_cumul < 1 - eps\n",
    "    set_masks[:, 1:] = set_masks[:, :-1]\n",
    "    set_masks[:, 0] = True\n",
    "\n",
    "    sets = [(pr_as[m], pr[pr_as[m]]) for pr_as, m, pr in zip(preds_as, set_masks, preds)]\n",
    "    return sets\n"
   ]
  },
  {
   "cell_type": "code",
   "execution_count": null,
   "metadata": {
    "pycharm": {
     "name": "#%%\n"
    }
   },
   "outputs": [],
   "source": [
    "import dash\n",
    "import dash_core_components as dcc\n",
    "import dash_html_components as html\n",
    "import dash_table\n",
    "from dash.dependencies import Input, Output, State\n",
    "from dash.exceptions import PreventUpdate\n",
    "from dash_extensions.callback import DashCallbackBlueprint\n",
    "\n",
    "# Look at dash_reusable_components.py\n",
    "# There are several instances in demo apps in the Dash Gallery.\n",
    "# There are good ideas and useful snippets. For instance, you can find how to draw an image in dash-image-processing\n",
    "\n",
    "# Also, there is dash_bootstrap_components"
   ]
  },
  {
   "cell_type": "code",
   "execution_count": null,
   "metadata": {
    "pycharm": {
     "name": "#%%\n"
    }
   },
   "outputs": [],
   "source": [
    "import plotly.graph_objects as go\n",
    "from plotly.subplots import make_subplots\n",
    "\n",
    "def draw_ncm_histo(ecdf_ncm=None, ncm_test=None, sel_p_val=None, label_synset=None):\n",
    "    fig = make_subplots(specs=[[{\"secondary_y\": True}]])\n",
    "    if ecdf_ncm is not None:\n",
    "        fig.add_trace(go.Scatter(x=list(ecdf_ncm.x), y=list(ecdf_ncm(ecdf_ncm.x)), name='NCM'),\n",
    "                      secondary_y=False)\n",
    "        fig.add_trace(go.Scatter(x=[ncm_test[0]], y=[sel_p_val],\n",
    "                                 mode='markers', name=label_synset),\n",
    "                      secondary_y=True)\n",
    "    fig.update_layout(title=go.layout.Title(text=\"Histogram of NCM for '%s'\" % label_synset,\n",
    "                                            x=0.5, y=0.85,\n",
    "                                            xanchor='center', yanchor='top'),\n",
    "                      legend=dict(x=0.6, y=0.1))\n",
    "\n",
    "    fig.update_yaxes(title_text=\"ECDF of NCM of calibration examples\", range=[0, 1], secondary_y=False)\n",
    "    fig.update_yaxes(title_text=\"p-value for '%s'\" % label_synset, range=[1, 0], secondary_y=True)\n",
    "\n",
    "    fig.update_xaxes(title_text=\"NCM\")\n",
    "\n",
    "    return fig"
   ]
  },
  {
   "cell_type": "code",
   "execution_count": null,
   "metadata": {
    "pycharm": {
     "name": "#%%\n"
    }
   },
   "outputs": [],
   "source": [
    "# see https://github.com/plotly/dash/issues/242\n",
    "external_stylesheets = ['https://codepen.io/chriddyp/pen/bWLwgP.css']\n",
    "external_scripts = [r'https://cdnjs.cloudflare.com/ajax/libs/mathjax/2.7.4/MathJax.js?config=TeX-MML-AM_CHTML']\n",
    "app = JupyterDash(__name__,\n",
    "                       external_stylesheets=external_stylesheets,\n",
    "                       external_scripts=external_scripts)\n",
    "\n",
    "dcb = DashCallbackBlueprint()  # Needed to have two callbacks for the same Output\n",
    "\n",
    "heading = html.H1(\"Demo of Conformal Prediction using ResNet50 on ImageNet data\", style={'textAlign': 'center', 'margin-top': \"2rem\"})\n",
    "desc = \"ImageNet label\"\n",
    "desc_div = html.Div(id='desc_div', children=[\"ImageNet label:  \", desc],\n",
    "                    style={'display': 'flex', 'padding': '5px',\n",
    "                           'flex-direction': 'column', 'justify-content': 'center',\n",
    "                           'align-items': 'center',\n",
    "                           'width': 500,\n",
    "                           'font-size': 18})\n",
    "\n",
    "style_grid = {'display': 'grid', 'grid-template-columns': 'auto 70% auto', 'align-items': 'center',\n",
    "              'justify-content': 'center', 'width': \"80%\", 'margin': '5px'}\n",
    "\n",
    "# Cannot make this work\n",
    "style_flex = {'display': 'flex', 'flex-direction': 'row', 'align-items': 'center',\n",
    "              'justify-content': 'center', 'width': \"80%\"}\n",
    "\n",
    "\n",
    "def create_slider_readout(id, dcb, label, initVal, slider_kwargs, input_kwargs):\n",
    "    slider = html.Div([label,\n",
    "                       dcc.Slider(id=id + \"_slider\", className='centered-slider', **slider_kwargs),\n",
    "                       dcc.Input(id=id + \"_input\", **input_kwargs),\n",
    "                       dcc.Store(id=id + \"_sync\", data=initVal)],\n",
    "                      style=style_grid)\n",
    "\n",
    "    @dcb.callback(Output(id + \"_sync\", \"data\"), [Input(id + \"_input\", \"value\")])\n",
    "    def sync_input_value(value):\n",
    "        return value\n",
    "\n",
    "    @dcb.callback(Output(id + \"_sync\", \"data\"), [Input(id + \"_slider\", \"value\")])\n",
    "    def sync_slider_value(value):\n",
    "        return value\n",
    "\n",
    "    @dcb.callback([Output(id + \"_input\", \"value\"), Output(id + \"_slider\", \"value\")], \n",
    "                  [Input(id + \"_sync\", \"data\"), Input(id + \"_sync\", \"modified_timestamp\")],\n",
    "                  [State(id + \"_input\", \"value\"), State(id + \"_slider\", \"value\")])\n",
    "    def update_components(current_value, _, input_prev, slider_prev):\n",
    "        # Update only inputs that are out of sync (this step \"breaks\" the circular dependency).\n",
    "        input_value = current_value if current_value != input_prev else dash.no_update\n",
    "        slider_value = current_value if current_value != slider_prev else dash.no_update\n",
    "        return [input_value, slider_value]\n",
    "\n",
    "    return slider\n",
    "\n",
    "\n",
    "dcb = DashCallbackBlueprint()  # Needed to have two callbacks for the same Output"
   ]
  },
  {
   "cell_type": "code",
   "execution_count": null,
   "outputs": [],
   "source": [
    "ILSRVC_image = html.Img(id=\"ILSRVC_image\",\n",
    "                        src='data:image/png;base64, ', style={'margin': 5})\n",
    "\n",
    "pic_idx = create_slider_readout(id=\"pic_idx\", dcb=dcb, label=\"Image index: \", initVal=1000,\n",
    "                                slider_kwargs=dict(min=1, max=2000, step=1),\n",
    "                                input_kwargs=dict(type=\"text\", style={'width': '4em'}))\n",
    "\n",
    "imagenet_div = html.Div([ILSRVC_image, desc_div, pic_idx],\n",
    "                        style={'display': 'flex', 'flex-direction': 'column', 'align-items': 'center',\n",
    "                               'justify-content': 'center', 'width': \"80%\",\n",
    "                               'border': '1px solid black', 'border-radius': '5px',\n",
    "                               'margin': 10, 'background-color': 'white', 'padding': 10})\n",
    "# Now Let's build the output pane\n",
    "\n",
    "eps = create_slider_readout(id=\"eps\", dcb=dcb, label=\"Significance level:\", initVal=0.2,\n",
    "                            slider_kwargs=dict(min=0.0, max=1.0, step=0.01),\n",
    "                            input_kwargs=dict(type=\"text\", style={'width': '4em'}))\n",
    "\n",
    "pr_data = [{\"label\": l, \"Prob\": l / 10.0} for l in range(10)]\n",
    "pval_data = [{\"label\": l, \"p-value\": l / 10.0} for l in range(10)]\n",
    "\n",
    "resnet50_div = html.Div([\n",
    "    html.Div(id=\"ResNet50 heading\", children=\"No image\", style={'font-size': 16}),\n",
    "    dash_table.DataTable(id='ResNet50', data=pr_data,\n",
    "                         columns=[{\"name\": \"label\", \"id\": \"label\"}, {\"name\": \"Prob\", \"id\": \"Prob\"}],\n",
    "                         style_cell={'textAlign': 'left', 'textOverflow': 'ellipsis',\n",
    "                                     'maxWidth': '5em', 'overflow': 'hidden', 'font-size': 14},\n",
    "                         style_cell_conditional=[\n",
    "                             {'if': {'column_id': 'Prob'},\n",
    "                              'width': '70px'},\n",
    "                         ],\n",
    "                         cell_selectable=False,\n",
    "                         fixed_rows={'headers': True},\n",
    "                         style_as_list_view=True,\n",
    "                         style_table={'height': '500px', 'width': \"400px\", 'margin': 5}),\n",
    "    dcc.Store('test_preds')])\n",
    "\n",
    "CP_div = html.Div([\n",
    "    html.Div(id=\"CP heading\", children=\"No image\", style={'font-size': 16}),\n",
    "    dash_table.DataTable(id='CP', data=pval_data,\n",
    "                         columns=[{\"name\": \"label\", \"id\": \"label\"}, {\"name\": \"p-value\", \"id\": \"pValue\"}],\n",
    "                         fixed_rows={'headers': True},\n",
    "                         style_cell={'textAlign': 'left', 'textOverflow': 'ellipsis',\n",
    "                                     'maxWidth': '5em', 'overflow': 'hidden', 'font-size': 14},\n",
    "                         style_cell_conditional=[\n",
    "                             {'if': {'column_id': 'pValue'},\n",
    "                              'width': '70px'},\n",
    "                         ],\n",
    "                         style_as_list_view=True,\n",
    "                         style_table={'height': '500px', 'width': \"400px\", 'margin': 5}),\n",
    "    dcc.Store('ps'),\n",
    "    dcc.Store('p_vals'),\n",
    "    dcc.Store('sorting_by_p_val')])\n",
    "\n",
    "NCM = dcc.RadioItems(id='NCM', options=[{'label': 'NegProb', 'value': 'NegProb'}, {'label': 'Ratio', 'value': 'Ratio'}],\n",
    "                     value='NegProb', style={'font-size': 16})\n",
    "\n",
    "NCM_hist_output = dcc.Graph(id=\"NCM_hist_output\", config={'displayModeBar': False},\n",
    "                            figure=draw_ncm_histo(),\n",
    "                            style={'width': 600})\n",
    "\n",
    "NCM_div = html.Div([\"NCM\", NCM, NCM_hist_output],\n",
    "                   style={'display': 'flex', 'flex-direction': 'column', 'align-items': 'center', 'font-size': 16})\n",
    "\n",
    "output_div = html.Div([resnet50_div, NCM_div, CP_div],\n",
    "                      style={'display': 'flex', 'flex-direction': 'row', 'justify-content': 'space-between', 'margin': 5})\n",
    "\n",
    "preds_div = html.Div([eps, output_div],\n",
    "                     style={'display': 'flex', 'flex-direction': 'column', 'align-items': 'center',\n",
    "                            'width': '80%',\n",
    "                            'justify-content': 'center', \n",
    "                            'border': '1px solid black', 'border-radius': '5px',\n",
    "                            'margin': 10, 'background-color': 'white', 'padding': 10})\n",
    "\n",
    "main_tab = html.Div(children=[\n",
    "    heading, imagenet_div, preds_div\n",
    "],\n",
    "    style={'display': 'flex', 'flex-direction': 'column',\n",
    "           'align-items': 'center', 'justify-content': 'space-between',\n",
    "           'background-color': 'lightgrey'}\n",
    ")\n",
    "\n",
    "with open(\"ILSRVC_CP_Notes.html\") as f:\n",
    "    notes = f.read()\n",
    "    \n",
    "import dash_dangerously_set_inner_html\n",
    "notes_tab = html.Div([\n",
    "    dash_dangerously_set_inner_html.DangerouslySetInnerHTML(notes)])\n",
    "\n",
    "app.layout = html.Div([dcc.Tabs([dcc.Tab(label='Demo', children=main_tab),\n",
    "                                 dcc.Tab(label='Notes', children=notes_tab)],\n",
    "                                style={'height':40, 'width':'10em', 'padding':5})])\n"
   ],
   "metadata": {
    "collapsed": false,
    "pycharm": {
     "name": "#%%\n"
    }
   }
  },
  {
   "cell_type": "code",
   "execution_count": null,
   "outputs": [],
   "source": [
    "# NOTE\n",
    "# in Dash, callbacks should access variables outside the local scope\n",
    "# These global variables are fixed, so accessing them should be OK\n",
    "# ground_truth_ki_cal\n",
    "# ground_truth_ki_test\n",
    "# preds_cal\n",
    "# ki_to_synset\n",
    "\n",
    "@dcb.callback([Output(\"ILSRVC_image\", \"src\"), Output('desc_div', 'children'), Output('test_preds', 'data')],\n",
    "              [Input(\"pic_idx_sync\", \"data\")])\n",
    "def update_pic(i):\n",
    "    if i is None:\n",
    "        i = 1000\n",
    "\n",
    "    if 0:  # for development environment\n",
    "        img_file = os.path.join(\".\", \"img\", \"ILSVRC2012_valsub_%08d.JPEG\" % i)\n",
    "        img_data = keras_image.load_img(img_file, target_size=(224, 224))\n",
    "    else:\n",
    "        url = \"\"\"https://cml.rhul.ac.uk/people/ptocca/ILSVRC2012-CP/img/ILSVRC2012_valsub_%08d.JPEG\"\"\" % i\n",
    "        img_data = getImage(url)\n",
    "\n",
    "    output = io.BytesIO()\n",
    "    img_data.save(output, format=\"PNG\")\n",
    "    img_encoded = 'data:image/png;base64, ' + base64.b64encode(output.getvalue()).decode(\"utf-8\")\n",
    "\n",
    "    # compute ResNet50 preds\n",
    "    x = keras_image.img_to_array(img_data)\n",
    "    x = np.expand_dims(x, axis=0)\n",
    "    x = preprocess_input(x)\n",
    "    test_preds = model.predict(x)\n",
    "\n",
    "    ## update ground truth widget\n",
    "    lbl = ki_to_synset[ground_truth_ki_test[i - 1]]\n",
    "\n",
    "    return img_encoded, lbl, dumps(test_preds)\n",
    "\n",
    "\n",
    "@dcb.callback([Output('ResNet50 heading', 'children'), Output(\"ResNet50\", \"data\")],\n",
    "              [Input(\"eps_sync\", \"data\"), Input('test_preds', 'data')])\n",
    "def update_ResNet(eps, test_preds_json):\n",
    "    if test_preds_json is None:\n",
    "        raise PreventUpdate\n",
    "        \n",
    "    test_preds = loads(test_preds_json)\n",
    "    resNet50_set = zip(*(get_prob_sets(test_preds. reshape(1, -1), eps=eps)[0]))\n",
    "\n",
    "    ## update resNet50 widget\n",
    "    resnet50_heading = \"ResNet50 (prob) at aggr prob %0.2f\" % (1 - eps)\n",
    "    resnet50_data = [dict(label=ki_to_synset[k], Prob=\"%0.3f\" % pr) for k, pr in resNet50_set]\n",
    "    return resnet50_heading, resnet50_data\n",
    "\n",
    "\n",
    "def get_ncm_function(ncm_label):\n",
    "    if ncm_label == 'NegProb':\n",
    "        ncm_f = rev_score\n",
    "    elif ncm_label == 'Ratio':\n",
    "        ncm_f = ratio_max_to_hypothetical\n",
    "    return ncm_f\n",
    "\n",
    "\n",
    "@dcb.callback([Output(\"CP heading\", \"children\"),\n",
    "               Output('CP', 'data'),\n",
    "               Output('p_vals','data'),\n",
    "               Output('ps','data'),\n",
    "               Output('sorting_by_p_val','data')],\n",
    "              [Input(\"eps_sync\", \"data\"),\n",
    "               Input(\"NCM\", \"value\"),\n",
    "               Input('test_preds', 'data'),\n",
    "               ])\n",
    "def update_CP(eps, ncm_label, test_preds_json):\n",
    "\n",
    "    if test_preds_json is None:\n",
    "        raise PreventUpdate\n",
    "    test_preds = loads(test_preds_json)\n",
    "\n",
    "    ncm_f = get_ncm_function(ncm_label)\n",
    "\n",
    "    p_vals = micp_pValues(preds_cal, test_preds, ground_truth_ki_cal, ncm=ncm_f)\n",
    "\n",
    "    ps = np.argwhere(p_vals > eps)[:, 0].T\n",
    "    ps_p_vals = p_vals[ps].flatten()\n",
    "    sorting_by_p_val = np.argsort(ps_p_vals)[::-1]\n",
    "    ps_synset = [dict(label=ki_to_synset[k], pValue=\"%0.3f\" % p) for k, p in\n",
    "                 zip(ps[sorting_by_p_val], ps_p_vals[sorting_by_p_val])]\n",
    "\n",
    "    ## update CP widget\n",
    "    CP_heading = \"CP (p-val) pred set at significance level %0.2f\" % eps\n",
    "    CP_table = ps_synset\n",
    "\n",
    "    return CP_heading, CP_table, dumps(p_vals), dumps(ps), dumps(sorting_by_p_val)\n",
    "\n",
    "\n",
    "from statsmodels.distributions.empirical_distribution import ECDF\n",
    "\n",
    "\n",
    "@dcb.callback([Output(\"NCM_hist_output\", \"figure\")],\n",
    "              [Input(\"CP\", \"data\"),\n",
    "               Input(\"NCM\", \"value\"),\n",
    "               Input(\"CP\",\"active_cell\"),\n",
    "               Input('ps', 'data'),\n",
    "               Input('sorting_by_p_val', 'data'),\n",
    "               Input('p_vals', 'data')],\n",
    "              [State('test_preds', 'data')])\n",
    "def update_NCM_histo(CP, ncm_label, selected, ps_json, sorting_by_p_val_json, p_vals_json, test_preds_json):\n",
    "\n",
    "    if CP is None:\n",
    "        raise PreventUpdate\n",
    "\n",
    "    idx = 0\n",
    "    try:\n",
    "        idx = selected['row']\n",
    "    except:\n",
    "        pass\n",
    "\n",
    "    sorting_by_p_val = loads(sorting_by_p_val_json)\n",
    "    test_preds = loads(test_preds_json)\n",
    "    p_vals = loads(p_vals_json)\n",
    "    ps = loads(ps_json)\n",
    "\n",
    "    try:\n",
    "        sel_p_val_label = ps[sorting_by_p_val[idx]]\n",
    "    except IndexError:\n",
    "        sel_p_val_label = np.argmax(p_vals)\n",
    "\n",
    "    ncm_f = get_ncm_function(ncm_label)\n",
    "    ncm_cal = ncm_f(preds_cal, sel_p_val_label)\n",
    "    ncm_test = ncm_f(test_preds, sel_p_val_label)\n",
    "\n",
    "    label_synset = ki_to_synset[sel_p_val_label]\n",
    "    if len(label_synset) > 15:\n",
    "        label_synset = label_synset[:15] + \"...\"\n",
    "\n",
    "    ncm_cal_mondrian = ncm_cal[ground_truth_ki_cal == sel_p_val_label]\n",
    "\n",
    "    ecdf_ncm = ECDF(np.r_[ncm_cal_mondrian, ncm_test], side='left')  # TODO: check number of dimensions?\n",
    "\n",
    "    fig = draw_ncm_histo(ecdf_ncm, ncm_test, p_vals[sel_p_val_label, 0], label_synset)\n",
    "\n",
    "    return fig\n",
    "\n",
    "\n",
    "dcb.register(app)"
   ],
   "metadata": {
    "collapsed": false,
    "pycharm": {
     "name": "#%%\n"
    }
   }
  },
  {
   "cell_type": "code",
   "execution_count": null,
   "outputs": [],
   "source": [
    "app.run_server(mode='inline', width=\"100%\", height=\"1250\", debug=False)"
   ],
   "metadata": {
    "collapsed": false,
    "pycharm": {
     "name": "#%%\n"
    }
   }
  },
  {
   "cell_type": "code",
   "execution_count": null,
   "metadata": {
    "pycharm": {
     "name": "#%%\n"
    }
   },
   "outputs": [],
   "source": [
    "# app._terminate_server_for_port(\"127.0.0.1\",8050)\n"
   ]
  }
 ],
 "metadata": {
  "kernelspec": {
   "display_name": "Python 3",
   "language": "python",
   "name": "python3"
  },
  "language_info": {
   "codemirror_mode": {
    "name": "ipython",
    "version": 3
   },
   "file_extension": ".py",
   "mimetype": "text/x-python",
   "name": "python",
   "nbconvert_exporter": "python",
   "pygments_lexer": "ipython3",
   "version": "3.7.6"
  }
 },
 "nbformat": 4,
 "nbformat_minor": 1
}